{
  "nbformat": 4,
  "nbformat_minor": 0,
  "metadata": {
    "colab": {
      "provenance": [],
      "include_colab_link": true
    },
    "kernelspec": {
      "name": "python3",
      "display_name": "Python 3"
    },
    "language_info": {
      "name": "python"
    }
  },
  "cells": [
    {
      "cell_type": "markdown",
      "metadata": {
        "id": "view-in-github",
        "colab_type": "text"
      },
      "source": [
        "<a href=\"https://colab.research.google.com/github/pankaj1204/private/blob/main/Another_copy_of_CS1.ipynb\" target=\"_parent\"><img src=\"https://colab.research.google.com/assets/colab-badge.svg\" alt=\"Open In Colab\"/></a>"
      ]
    },
    {
      "cell_type": "code",
      "execution_count": null,
      "metadata": {
        "id": "b10j1nRoMDNA"
      },
      "outputs": [],
      "source": [
        "import seaborn as sns\n",
        "print(sns.get_dataset_names())"
      ]
    },
    {
      "cell_type": "markdown",
      "source": [],
      "metadata": {
        "id": "pzJv7t5y0YWn"
      }
    },
    {
      "cell_type": "code",
      "source": [
        "import pandas as pd"
      ],
      "metadata": {
        "id": "kp2xWcD5MxyQ"
      },
      "execution_count": null,
      "outputs": []
    },
    {
      "cell_type": "code",
      "source": [
        "from seaborn.utils import get_dataset_names\n",
        "db=sns.load_dataset('titanic')"
      ],
      "metadata": {
        "id": "AXKSVd8QMyK8"
      },
      "execution_count": null,
      "outputs": []
    },
    {
      "cell_type": "code",
      "source": [
        "print(db.head(10))"
      ],
      "metadata": {
        "id": "jc5V7EIVMyUj",
        "colab": {
          "base_uri": "https://localhost:8080/"
        },
        "outputId": "e0c2ee4f-86aa-4058-934a-e486c1e73715"
      },
      "execution_count": null,
      "outputs": [
        {
          "output_type": "stream",
          "name": "stdout",
          "text": [
            "   survived  pclass     sex   age  sibsp  parch     fare embarked   class  \\\n",
            "0         0       3    male  22.0      1      0   7.2500        S   Third   \n",
            "1         1       1  female  38.0      1      0  71.2833        C   First   \n",
            "2         1       3  female  26.0      0      0   7.9250        S   Third   \n",
            "3         1       1  female  35.0      1      0  53.1000        S   First   \n",
            "4         0       3    male  35.0      0      0   8.0500        S   Third   \n",
            "5         0       3    male   NaN      0      0   8.4583        Q   Third   \n",
            "6         0       1    male  54.0      0      0  51.8625        S   First   \n",
            "7         0       3    male   2.0      3      1  21.0750        S   Third   \n",
            "8         1       3  female  27.0      0      2  11.1333        S   Third   \n",
            "9         1       2  female  14.0      1      0  30.0708        C  Second   \n",
            "\n",
            "     who  adult_male deck  embark_town alive  alone  \n",
            "0    man        True  NaN  Southampton    no  False  \n",
            "1  woman       False    C    Cherbourg   yes  False  \n",
            "2  woman       False  NaN  Southampton   yes   True  \n",
            "3  woman       False    C  Southampton   yes  False  \n",
            "4    man        True  NaN  Southampton    no   True  \n",
            "5    man        True  NaN   Queenstown    no   True  \n",
            "6    man        True    E  Southampton    no   True  \n",
            "7  child       False  NaN  Southampton    no  False  \n",
            "8  woman       False  NaN  Southampton   yes  False  \n",
            "9  child       False  NaN    Cherbourg   yes  False  \n"
          ]
        }
      ]
    },
    {
      "cell_type": "code",
      "source": [
        "print(db.tail())"
      ],
      "metadata": {
        "id": "n2YQg2D_MyXz"
      },
      "execution_count": null,
      "outputs": []
    },
    {
      "cell_type": "code",
      "source": [
        "print(db.sample(5))"
      ],
      "metadata": {
        "id": "iV1Mh2TnMybC"
      },
      "execution_count": null,
      "outputs": []
    },
    {
      "cell_type": "code",
      "source": [
        "print(db.info())"
      ],
      "metadata": {
        "id": "hvRezQ7eMyeW",
        "colab": {
          "base_uri": "https://localhost:8080/"
        },
        "outputId": "ed6668f0-9e4f-410e-9916-cbe26bd9b38a"
      },
      "execution_count": null,
      "outputs": [
        {
          "output_type": "stream",
          "name": "stdout",
          "text": [
            "<class 'pandas.core.frame.DataFrame'>\n",
            "RangeIndex: 891 entries, 0 to 890\n",
            "Data columns (total 15 columns):\n",
            " #   Column       Non-Null Count  Dtype   \n",
            "---  ------       --------------  -----   \n",
            " 0   survived     891 non-null    int64   \n",
            " 1   pclass       891 non-null    int64   \n",
            " 2   sex          891 non-null    object  \n",
            " 3   age          714 non-null    float64 \n",
            " 4   sibsp        891 non-null    int64   \n",
            " 5   parch        891 non-null    int64   \n",
            " 6   fare         891 non-null    float64 \n",
            " 7   embarked     889 non-null    object  \n",
            " 8   class        891 non-null    category\n",
            " 9   who          891 non-null    object  \n",
            " 10  adult_male   891 non-null    bool    \n",
            " 11  deck         203 non-null    category\n",
            " 12  embark_town  889 non-null    object  \n",
            " 13  alive        891 non-null    object  \n",
            " 14  alone        891 non-null    bool    \n",
            "dtypes: bool(2), category(2), float64(2), int64(4), object(5)\n",
            "memory usage: 80.7+ KB\n",
            "None\n"
          ]
        }
      ]
    },
    {
      "cell_type": "code",
      "source": [
        "print(db.describe())"
      ],
      "metadata": {
        "id": "JrrkbKjtMykt",
        "colab": {
          "base_uri": "https://localhost:8080/"
        },
        "outputId": "daee6515-1423-4409-c9bd-91d99151eb82"
      },
      "execution_count": null,
      "outputs": [
        {
          "output_type": "stream",
          "name": "stdout",
          "text": [
            "         survived      pclass         age       sibsp       parch        fare\n",
            "count  891.000000  891.000000  714.000000  891.000000  891.000000  891.000000\n",
            "mean     0.383838    2.308642   29.699118    0.523008    0.381594   32.204208\n",
            "std      0.486592    0.836071   14.526497    1.102743    0.806057   49.693429\n",
            "min      0.000000    1.000000    0.420000    0.000000    0.000000    0.000000\n",
            "25%      0.000000    2.000000   20.125000    0.000000    0.000000    7.910400\n",
            "50%      0.000000    3.000000   28.000000    0.000000    0.000000   14.454200\n",
            "75%      1.000000    3.000000   38.000000    1.000000    0.000000   31.000000\n",
            "max      1.000000    3.000000   80.000000    8.000000    6.000000  512.329200\n"
          ]
        }
      ]
    },
    {
      "cell_type": "code",
      "source": [
        "print(db.notnull())"
      ],
      "metadata": {
        "id": "AsRcZcccQ_7A",
        "colab": {
          "base_uri": "https://localhost:8080/"
        },
        "outputId": "37614655-e0fe-4645-92d0-e7c60e3a3beb"
      },
      "execution_count": null,
      "outputs": [
        {
          "output_type": "stream",
          "name": "stdout",
          "text": [
            "     survived  pclass   sex    age  sibsp  parch  fare  embarked  class   who  \\\n",
            "0        True    True  True   True   True   True  True      True   True  True   \n",
            "1        True    True  True   True   True   True  True      True   True  True   \n",
            "2        True    True  True   True   True   True  True      True   True  True   \n",
            "3        True    True  True   True   True   True  True      True   True  True   \n",
            "4        True    True  True   True   True   True  True      True   True  True   \n",
            "..        ...     ...   ...    ...    ...    ...   ...       ...    ...   ...   \n",
            "886      True    True  True   True   True   True  True      True   True  True   \n",
            "887      True    True  True   True   True   True  True      True   True  True   \n",
            "888      True    True  True  False   True   True  True      True   True  True   \n",
            "889      True    True  True   True   True   True  True      True   True  True   \n",
            "890      True    True  True   True   True   True  True      True   True  True   \n",
            "\n",
            "     adult_male   deck  embark_town  alive  alone  \n",
            "0          True  False         True   True   True  \n",
            "1          True   True         True   True   True  \n",
            "2          True  False         True   True   True  \n",
            "3          True   True         True   True   True  \n",
            "4          True  False         True   True   True  \n",
            "..          ...    ...          ...    ...    ...  \n",
            "886        True  False         True   True   True  \n",
            "887        True   True         True   True   True  \n",
            "888        True  False         True   True   True  \n",
            "889        True   True         True   True   True  \n",
            "890        True  False         True   True   True  \n",
            "\n",
            "[891 rows x 15 columns]\n"
          ]
        }
      ]
    },
    {
      "cell_type": "code",
      "source": [
        "print(db.duplicated())"
      ],
      "metadata": {
        "id": "l2xSTHhjRAGD",
        "colab": {
          "base_uri": "https://localhost:8080/"
        },
        "outputId": "1c11e79e-f9f3-487e-8ec3-cb147fa814e2"
      },
      "execution_count": null,
      "outputs": [
        {
          "output_type": "stream",
          "name": "stdout",
          "text": [
            "0      False\n",
            "1      False\n",
            "2      False\n",
            "3      False\n",
            "4      False\n",
            "       ...  \n",
            "886     True\n",
            "887    False\n",
            "888    False\n",
            "889    False\n",
            "890    False\n",
            "Length: 891, dtype: bool\n"
          ]
        }
      ]
    },
    {
      "cell_type": "code",
      "source": [
        "print(db.duplicated().sum())"
      ],
      "metadata": {
        "id": "E7ymaVbDRAMw",
        "colab": {
          "base_uri": "https://localhost:8080/"
        },
        "outputId": "646b7912-ea17-498b-b4a7-0ce46d81d3a7"
      },
      "execution_count": null,
      "outputs": [
        {
          "output_type": "stream",
          "name": "stdout",
          "text": [
            "107\n"
          ]
        }
      ]
    },
    {
      "cell_type": "code",
      "source": [
        "sns.barplot(y=db['survived'], x=db['sex'])"
      ],
      "metadata": {
        "id": "baxx1lRoRAUQ",
        "colab": {
          "base_uri": "https://localhost:8080/",
          "height": 466
        },
        "outputId": "6b88142a-8199-41d6-85b0-1dc0511a7624"
      },
      "execution_count": null,
      "outputs": [
        {
          "output_type": "execute_result",
          "data": {
            "text/plain": [
              "<Axes: xlabel='sex', ylabel='survived'>"
            ]
          },
          "metadata": {},
          "execution_count": 32
        },
        {
          "output_type": "display_data",
          "data": {
            "text/plain": [
              "<Figure size 640x480 with 1 Axes>"
            ],
            "image/png": "[encoded data removed]"
          },
          "metadata": {}
        }
      ]
    },
    {
      "cell_type": "code",
      "source": [
        "sns.barplot(y=db['survived'], x=db['class'])"
      ],
      "metadata": {
        "id": "1g0hKf2rRAWs",
        "colab": {
          "base_uri": "https://localhost:8080/",
          "height": 466
        },
        "outputId": "d23bdfde-2bf6-443d-84aa-f0ac8291f5ba"
      },
      "execution_count": null,
      "outputs": [
        {
          "output_type": "execute_result",
          "data": {
            "text/plain": [
              "<Axes: xlabel='class', ylabel='survived'>"
            ]
          },
          "metadata": {},
          "execution_count": 33
        },
        {
          "output_type": "display_data",
          "data": {
            "text/plain": [
              "<Figure size 640x480 with 1 Axes>"
            ],
            "image/png": "[encoded data removed]"
          },
          "metadata": {}
        }
      ]
    },
    {
      "cell_type": "code",
      "source": [
        "sns.boxplot(y=db['fare'])"
      ],
      "metadata": {
        "id": "L_DTwaiEpYzx",
        "outputId": "cddb3935-a874-4ef3-9fbe-beb1f50e5625",
        "colab": {
          "base_uri": "https://localhost:8080/",
          "height": 428
        }
      },
      "execution_count": null,
      "outputs": [
        {
          "output_type": "execute_result",
          "data": {
            "text/plain": [
              "<Axes: ylabel='fare'>"
            ]
          },
          "metadata": {},
          "execution_count": 42
        },
        {
          "output_type": "display_data",
          "data": {
            "text/plain": [
              "<Figure size 640x480 with 1 Axes>"
            ],
            "image/png": "[encoded data removed]"
          },
          "metadata": {}
        }
      ]
    },
    {
      "cell_type": "code",
      "source": [
        "sns.boxplot(y=db['age'])"
      ],
      "metadata": {
        "id": "WwQ1Z6wnpY4W",
        "outputId": "c86f7e45-1b15-4c6d-a9e5-607d0c5ce28f",
        "colab": {
          "base_uri": "https://localhost:8080/",
          "height": 428
        }
      },
      "execution_count": null,
      "outputs": [
        {
          "output_type": "execute_result",
          "data": {
            "text/plain": [
              "<Axes: ylabel='age'>"
            ]
          },
          "metadata": {},
          "execution_count": 43
        },
        {
          "output_type": "display_data",
          "data": {
            "text/plain": [
              "<Figure size 640x480 with 1 Axes>"
            ],
            "image/png": "[encoded data removed]"
          },
          "metadata": {}
        }
      ]
    },
    {
      "cell_type": "code",
      "source": [
        "sns.histplot(x=db['age'])"
      ],
      "metadata": {
        "id": "g-xvDg1fpY6m",
        "outputId": "d49c6860-7c79-47d2-c256-9ba9c19d67ff",
        "colab": {
          "base_uri": "https://localhost:8080/",
          "height": 466
        }
      },
      "execution_count": null,
      "outputs": [
        {
          "output_type": "execute_result",
          "data": {
            "text/plain": [
              "<Axes: xlabel='age', ylabel='Count'>"
            ]
          },
          "metadata": {},
          "execution_count": 52
        },
        {
          "output_type": "display_data",
          "data": {
            "text/plain": [
              "<Figure size 640x480 with 1 Axes>"
            ],
            "image/png": "[encoded data removed]"
          },
          "metadata": {}
        }
      ]
    },
    {
      "cell_type": "code",
      "source": [
        "sns.histplot(x=db['fare'])"
      ],
      "metadata": {
        "id": "VTyTsE7spY_w",
        "outputId": "56a34b34-9166-4ab1-c959-91612b4b35a1",
        "colab": {
          "base_uri": "https://localhost:8080/",
          "height": 466
        }
      },
      "execution_count": null,
      "outputs": [
        {
          "output_type": "execute_result",
          "data": {
            "text/plain": [
              "<Axes: xlabel='fare', ylabel='Count'>"
            ]
          },
          "metadata": {},
          "execution_count": 53
        },
        {
          "output_type": "display_data",
          "data": {
            "text/plain": [
              "<Figure size 640x480 with 1 Axes>"
            ],
            "image/png": "[encoded data removed]"
          },
          "metadata": {}
        }
      ]
    },
    {
      "cell_type": "code",
      "source": [
        "sns.histplot(x=db[''])"
      ],
      "metadata": {
        "id": "C3Y6Gf4ZpZCC"
      },
      "execution_count": null,
      "outputs": []
    },
    {
      "cell_type": "code",
      "source": [
        "cov=db['survived'].cov(db['age'])\n",
        "print(cov)"
      ],
      "metadata": {
        "id": "tyALDVlWpZEQ",
        "outputId": "42b5dbd5-4e9b-4b16-d88c-010b808b2507",
        "colab": {
          "base_uri": "https://localhost:8080/"
        }
      },
      "execution_count": null,
      "outputs": [
        {
          "output_type": "stream",
          "name": "stdout",
          "text": [
            "-0.5512960976817095\n"
          ]
        }
      ]
    },
    {
      "cell_type": "code",
      "source": [
        "cov=db['age'].cov(db['fare'])\n",
        "print(cov)"
      ],
      "metadata": {
        "id": "A97YJejVpZG5",
        "outputId": "7c917492-1367-483d-9d65-459529d58831",
        "colab": {
          "base_uri": "https://localhost:8080/"
        }
      },
      "execution_count": null,
      "outputs": [
        {
          "output_type": "stream",
          "name": "stdout",
          "text": [
            "73.84902981461926\n"
          ]
        }
      ]
    },
    {
      "cell_type": "code",
      "source": [],
      "metadata": {
        "id": "7beQi0YLpZJR"
      },
      "execution_count": null,
      "outputs": []
    }
  ]
}